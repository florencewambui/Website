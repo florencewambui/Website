{
 "cells": [
  {
   "cell_type": "code",
   "execution_count": 1,
   "metadata": {},
   "outputs": [],
   "source": [
    "import requests\n",
    "import bs4\n",
    "import pandas as pd\n",
    "import numpy as np\n"
   ]
  },
  {
   "cell_type": "code",
   "execution_count": 2,
   "metadata": {},
   "outputs": [],
   "source": [
    "# single post\n",
    "def scrape_single_post(posting_url):\n",
    "    posting = requests.get(posting_url)\n",
    "    posting = bs4.BeautifulSoup(posting.text, \"lxml\")\n",
    "    try:\n",
    "        title = posting.select(\".subtitle2\")[0].getText()\n",
    "    except Exception as exc:\n",
    "        title = \"NA\"\n",
    "    try:\n",
    "        date_posted = posting.select(\"span\")[0].getText()\n",
    "    except Exception as exc:\n",
    "        date_posted = \"NA\"\n",
    "    try:\n",
    "        deadline = posting.select(\"span\")[2].getText()\n",
    "    except Exception as exc:\n",
    "        deadline = \"NA\"\n",
    "    try:\n",
    "        poster = posting.select(\".creategap a\")[1].getText().replace(\"View All Jobs at\", \"\")\n",
    "    except Exception as exc:\n",
    "        poster = \"NA\"\n",
    "    try:\n",
    "        field = posting.select(\".p_spantitle li\")[4].getText().replace(\"Job Field\", \"\")\n",
    "    except Exception as exc:\n",
    "        field = \"NA\"\n",
    "    try:\n",
    "        location = posting.select(\".p_spantitle li\")[3].getText().replace(\"Location\", \"\")\n",
    "    except Exception as exc:\n",
    "        location = \"NA\"\n",
    "    try:\n",
    "        job_type = posting.select(\".p_spantitle li\")[0].getText().replace(\"Job Type\", \"\")\n",
    "    except Exception as exc:\n",
    "        job_type = \"NA\"\n",
    "    try:\n",
    "        industry = posting.select(\".creategap a\")[0].getText().replace(\"View Jobs in\", \"\")\n",
    "    except Exception as exc:\n",
    "        industry = \"NA\"\n",
    "    try:\n",
    "        minimum_qualification = posting.select(\".p_spantitle li\")[1].getText().replace(\"Qualification\", \"\")\n",
    "    except Exception as exc:\n",
    "        minimum_qualification = \"NA\"\n",
    "\n",
    "    try:\n",
    "        experience_level = posting.select(\".p_spantitle li\")[2].getText().replace(\"Experience\", \"\")\n",
    "    except Exception as exc:\n",
    "        experience_level = \"NA\"\n",
    "    try:\n",
    "        responsibilities = posting.find(\"strong\",string = ['Responsibilities', 'General Responsibilities / Duties', 'Duties and Responsibilities', \n",
    "                                               'Key Duties and Responsibilities', 'RESPONSIBILITIES', 'JOB ACCOUNTABILITIES', \n",
    "                                               'The position has the following core responsibilities', 'DUTIES & RESPONSIBILITIES', \n",
    "                                               'Key Responsibilities', 'Required Technical And Professional Expertise', \n",
    "                                               'Preferred Tech And Prof Experience',  'TOP 3-5 Accountabilities', \n",
    "                                                'Essential Job Functions: Duties and Responsibilities',\n",
    "                                              'Main Responsibilities', 'Required Skills', 'ESSENTIAL DUTIES AND RESPONSIBILITIES',\n",
    "                                               'Essential Job Functions', 'Primary Duties', 'Job Responsibilities', 'Overall Purpose',\n",
    "                                               'Key Responsibilities:', 'Duties', 'Key Areas of Responsibility', 'Key Responsibilities Of The Role',\n",
    "                                               'Specific responsibilities include', 'Job Description', 'Roles & Responsibilities', 'Position Description'\n",
    "                                              ]).find_next(\"ul\").getText()\n",
    "    except Exception as exc:\n",
    "        responsibilities = \"NA\"\n",
    "        \n",
    "    try:\n",
    "        qualifications = posting.find(\"strong\", string = ['Skills and qualifications you’ll need', 'Knowledge and Experience', \n",
    "                                                          'Skills', 'Qualifications', 'skills and experience we are seeking', \n",
    "                                                          'MINUMUM REQUIREMENT STANDARDS', 'Skills and Desired Qualities', \n",
    "                                                          'Job Requirements', 'Key Qualifications and Experience', 'Qualifications:',\n",
    "                                                          'qualifications', 'Key Competencies', 'Key Skills', 'Key Qualifications', \n",
    "                                                         'Qualifications and Experience', 'Qualifications, Skills and Experience',\n",
    "                                                         'Qualifications|Experience', 'CRITICAL COMPETENCIES', 'Skills & Experience',\n",
    "                                                         'Requirements', 'REQUIREMENTS', 'Work Experience Requirements', \n",
    "                                                          'QUALIFICATION, CERTIFICATION & EDUCATIONAL REQUIREMENTS',\n",
    "                                                          'Position Requirements']).find_next(\"ul\").getText()\n",
    "    except Exception as exc:\n",
    "        qualifications = \"NA\"\n",
    "    try:\n",
    "        benefits = posting.find(\"strong\", string = ['Benefits', 'Benefits & Compensation']).find_next(\"ul\").getText()\n",
    "    except Exception as exc:\n",
    "        benefits = \"NA\"\n",
    "    try:\n",
    "        application_method = posting.find(string = \"Method of Application\").find_next('p').getText()\n",
    "    except Exception as exc:\n",
    "        application_method = \"NA\"\n",
    "    posting_info = [title, date_posted, deadline, poster, field, location, job_type, industry, minimum_qualification, experience_level, responsibilities, qualifications, benefits, application_method]\n",
    "    return(posting_info)"
   ]
  },
  {
   "cell_type": "code",
   "execution_count": 3,
   "metadata": {},
   "outputs": [],
   "source": [
    "jobmag = pd.DataFrame(columns = [\"title\", \"date_posted\", \"deadline\", \"poster\", \"field\", \"location\", \"job_type\", \"industry\",  \"minimum_qualification\",  \"experience_level\", \"responsibilities\", \"qualifications\", \"benefits\", \"application_method\"])"
   ]
  },
  {
   "cell_type": "code",
   "execution_count": null,
   "metadata": {},
   "outputs": [
    {
     "name": "stdout",
     "output_type": "stream",
     "text": [
      "1\n",
      "2\n",
      "3\n",
      "4\n",
      "5\n",
      "6\n",
      "7\n",
      "8\n",
      "9\n",
      "10\n",
      "11\n",
      "12\n",
      "13\n",
      "14\n",
      "15\n",
      "16\n",
      "17\n",
      "18\n",
      "19\n",
      "20\n",
      "21\n",
      "22\n",
      "23\n",
      "24\n"
     ]
    }
   ],
   "source": [
    "for i in range(1,1046):\n",
    "    print(i)\n",
    "    page_url = \"https://www.myjobmag.co.ke/page/\" + str(i)\n",
    "    page_info = requests.get(page_url)\n",
    "    page_info = bs4.BeautifulSoup(page_info.text, \"lxml\")\n",
    "    page_links = page_info.select(\"#latestjobs a\")\n",
    "    for j in range(len(page_links)):\n",
    "        job_link = page_links[j][\"href\"]\n",
    "        if job_link.startswith(\"readjob\") == True or job_link.startswith(\"job\") == True :\n",
    "            job_link = \"https://www.myjobmag.co.ke/\" + job_link\n",
    "            post = scrape_single_post(job_link)\n",
    "            post_df = pd.DataFrame([[post[0], post[1], post[2], post[3], post[4], post[5], post[6], post[7], post[8], post[9], post[10], post[11], post[12], post[13]]], columns = [\"title\", \"date_posted\", \"deadline\", \"poster\", \"field\", \"location\", \"job_type\", \"industry\",  \"minimum_qualification\",  \"experience_level\", \"responsibilities\", \"qualifications\", \"benefits\", \"application_method\"])\n",
    "            jobmag = jobmag.append(post_df)\n",
    "\n",
    "        else:\n",
    "              continue\n",
    "jobmag = jobmag[jobmag.title.str.len() > 2]\n",
    "jobmag.index = range(len(jobmag))\n"
   ]
  },
  {
   "cell_type": "code",
   "execution_count": null,
   "metadata": {},
   "outputs": [],
   "source": [
    "jobmag.to_csv(\"jobmag.csv\", index = False)"
   ]
  },
  {
   "cell_type": "code",
   "execution_count": null,
   "metadata": {},
   "outputs": [],
   "source": [
    "jobmag"
   ]
  },
  {
   "cell_type": "code",
   "execution_count": null,
   "metadata": {},
   "outputs": [],
   "source": []
  }
 ],
 "metadata": {
  "kernelspec": {
   "display_name": "Python 3",
   "language": "python",
   "name": "python3"
  },
  "language_info": {
   "codemirror_mode": {
    "name": "ipython",
    "version": 3
   },
   "file_extension": ".py",
   "mimetype": "text/x-python",
   "name": "python",
   "nbconvert_exporter": "python",
   "pygments_lexer": "ipython3",
   "version": "3.6.5"
  }
 },
 "nbformat": 4,
 "nbformat_minor": 2
}
