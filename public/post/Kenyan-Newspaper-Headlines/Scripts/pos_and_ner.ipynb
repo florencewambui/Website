{
 "cells": [
  {
   "cell_type": "code",
   "execution_count": 1,
   "metadata": {},
   "outputs": [],
   "source": [
    "import pandas as pd\n",
    "import numpy as np\n",
    "import datetime\n",
    "from vaderSentiment.vaderSentiment import SentimentIntensityAnalyzer\n",
    "import nltk\n",
    "from nltk.tokenize import word_tokenize\n",
    "from nltk.tag import pos_tag\n",
    "import spacy\n",
    "from spacy import displacy\n",
    "from collections import Counter\n",
    "import en_core_web_sm\n",
    "from pprint import pprint"
   ]
  },
  {
   "cell_type": "code",
   "execution_count": 20,
   "metadata": {},
   "outputs": [
    {
     "name": "stdout",
     "output_type": "stream",
     "text": [
      "           source       date  \\\n",
      "0  business_daily 2017-10-01   \n",
      "1  business_daily 2017-10-07   \n",
      "2  business_daily 2017-10-10   \n",
      "3  business_daily 2017-10-11   \n",
      "4  business_daily 2017-10-11   \n",
      "\n",
      "                                            headline type  uhuru  raila   ruto  \n",
      "0   Jubilee law change to let Uhuru advertise freely   h2   True  False   True  \n",
      "1                 Uhuru orders probe on Gikomba fire   li   True  False  False  \n",
      "2  Four injured during anti-IEBC protests as Rail...   li   True   True  False  \n",
      "3  Nasa legislators to boycott House business in ...   h2  False   True  False  \n",
      "4  Political crisis deepens as Raila exits presid...   li  False   True  False  \n"
     ]
    }
   ],
   "source": [
    "politics = pd.read_csv(\"politics.csv\", encoding = \"ISO-8859-1\")\n",
    "politics[\"date\"] = pd.to_datetime(politics[\"date\"], format = \"%Y-%m-%d\")\n",
    "print(politics.head())\n"
   ]
  },
  {
   "cell_type": "code",
   "execution_count": 21,
   "metadata": {},
   "outputs": [
    {
     "data": {
      "text/plain": [
       "count                   23608\n",
       "unique                   2851\n",
       "top       2017-10-11 00:00:00\n",
       "freq                       57\n",
       "first     2008-10-14 00:00:00\n",
       "last      2019-08-29 00:00:00\n",
       "Name: date, dtype: object"
      ]
     },
     "execution_count": 21,
     "metadata": {},
     "output_type": "execute_result"
    }
   ],
   "source": [
    "politics[\"date\"].describe()"
   ]
  },
  {
   "cell_type": "code",
   "execution_count": 22,
   "metadata": {},
   "outputs": [
    {
     "data": {
      "text/html": [
       "<div>\n",
       "<style scoped>\n",
       "    .dataframe tbody tr th:only-of-type {\n",
       "        vertical-align: middle;\n",
       "    }\n",
       "\n",
       "    .dataframe tbody tr th {\n",
       "        vertical-align: top;\n",
       "    }\n",
       "\n",
       "    .dataframe thead th {\n",
       "        text-align: right;\n",
       "    }\n",
       "</style>\n",
       "<table border=\"1\" class=\"dataframe\">\n",
       "  <thead>\n",
       "    <tr style=\"text-align: right;\">\n",
       "      <th></th>\n",
       "      <th>source</th>\n",
       "      <th>date</th>\n",
       "      <th>headline</th>\n",
       "      <th>type</th>\n",
       "      <th>uhuru</th>\n",
       "      <th>raila</th>\n",
       "      <th>ruto</th>\n",
       "      <th>sentiment_score</th>\n",
       "    </tr>\n",
       "  </thead>\n",
       "  <tbody>\n",
       "    <tr>\n",
       "      <th>0</th>\n",
       "      <td>business_daily</td>\n",
       "      <td>2017-10-01</td>\n",
       "      <td>Jubilee law change to let Uhuru advertise freely</td>\n",
       "      <td>h2</td>\n",
       "      <td>True</td>\n",
       "      <td>False</td>\n",
       "      <td>True</td>\n",
       "      <td>0.4404</td>\n",
       "    </tr>\n",
       "    <tr>\n",
       "      <th>1</th>\n",
       "      <td>business_daily</td>\n",
       "      <td>2017-10-07</td>\n",
       "      <td>Uhuru orders probe on Gikomba fire</td>\n",
       "      <td>li</td>\n",
       "      <td>True</td>\n",
       "      <td>False</td>\n",
       "      <td>False</td>\n",
       "      <td>-0.3400</td>\n",
       "    </tr>\n",
       "    <tr>\n",
       "      <th>2</th>\n",
       "      <td>business_daily</td>\n",
       "      <td>2017-10-10</td>\n",
       "      <td>Four injured during anti-IEBC protests as Rail...</td>\n",
       "      <td>li</td>\n",
       "      <td>True</td>\n",
       "      <td>True</td>\n",
       "      <td>False</td>\n",
       "      <td>-0.5574</td>\n",
       "    </tr>\n",
       "    <tr>\n",
       "      <th>3</th>\n",
       "      <td>business_daily</td>\n",
       "      <td>2017-10-11</td>\n",
       "      <td>Nasa legislators to boycott House business in ...</td>\n",
       "      <td>h2</td>\n",
       "      <td>False</td>\n",
       "      <td>True</td>\n",
       "      <td>False</td>\n",
       "      <td>-0.3182</td>\n",
       "    </tr>\n",
       "    <tr>\n",
       "      <th>4</th>\n",
       "      <td>business_daily</td>\n",
       "      <td>2017-10-11</td>\n",
       "      <td>Political crisis deepens as Raila exits presid...</td>\n",
       "      <td>li</td>\n",
       "      <td>False</td>\n",
       "      <td>True</td>\n",
       "      <td>False</td>\n",
       "      <td>-0.6249</td>\n",
       "    </tr>\n",
       "    <tr>\n",
       "      <th>5</th>\n",
       "      <td>business_daily</td>\n",
       "      <td>2017-10-11</td>\n",
       "      <td>Raila Odinga quits repeat poll</td>\n",
       "      <td>li</td>\n",
       "      <td>False</td>\n",
       "      <td>True</td>\n",
       "      <td>False</td>\n",
       "      <td>0.0000</td>\n",
       "    </tr>\n",
       "    <tr>\n",
       "      <th>6</th>\n",
       "      <td>business_daily</td>\n",
       "      <td>2017-10-13</td>\n",
       "      <td>Proposed election laws now await Uhurus signature</td>\n",
       "      <td>li</td>\n",
       "      <td>True</td>\n",
       "      <td>False</td>\n",
       "      <td>False</td>\n",
       "      <td>0.1027</td>\n",
       "    </tr>\n",
       "    <tr>\n",
       "      <th>7</th>\n",
       "      <td>business_daily</td>\n",
       "      <td>2017-10-13</td>\n",
       "      <td>Showdown looms as Nasa defies Matiangi ban on ...</td>\n",
       "      <td>li</td>\n",
       "      <td>False</td>\n",
       "      <td>True</td>\n",
       "      <td>False</td>\n",
       "      <td>-0.6369</td>\n",
       "    </tr>\n",
       "    <tr>\n",
       "      <th>8</th>\n",
       "      <td>business_daily</td>\n",
       "      <td>2017-10-14</td>\n",
       "      <td>Uhuru receives proposed election law</td>\n",
       "      <td>h2</td>\n",
       "      <td>True</td>\n",
       "      <td>False</td>\n",
       "      <td>False</td>\n",
       "      <td>0.0000</td>\n",
       "    </tr>\n",
       "    <tr>\n",
       "      <th>9</th>\n",
       "      <td>business_daily</td>\n",
       "      <td>2017-10-14</td>\n",
       "      <td>Nasa defies CS protests in CBD</td>\n",
       "      <td>li</td>\n",
       "      <td>False</td>\n",
       "      <td>True</td>\n",
       "      <td>False</td>\n",
       "      <td>-0.2263</td>\n",
       "    </tr>\n",
       "  </tbody>\n",
       "</table>\n",
       "</div>"
      ],
      "text/plain": [
       "           source       date  \\\n",
       "0  business_daily 2017-10-01   \n",
       "1  business_daily 2017-10-07   \n",
       "2  business_daily 2017-10-10   \n",
       "3  business_daily 2017-10-11   \n",
       "4  business_daily 2017-10-11   \n",
       "5  business_daily 2017-10-11   \n",
       "6  business_daily 2017-10-13   \n",
       "7  business_daily 2017-10-13   \n",
       "8  business_daily 2017-10-14   \n",
       "9  business_daily 2017-10-14   \n",
       "\n",
       "                                            headline type  uhuru  raila  \\\n",
       "0   Jubilee law change to let Uhuru advertise freely   h2   True  False   \n",
       "1                 Uhuru orders probe on Gikomba fire   li   True  False   \n",
       "2  Four injured during anti-IEBC protests as Rail...   li   True   True   \n",
       "3  Nasa legislators to boycott House business in ...   h2  False   True   \n",
       "4  Political crisis deepens as Raila exits presid...   li  False   True   \n",
       "5                     Raila Odinga quits repeat poll   li  False   True   \n",
       "6  Proposed election laws now await Uhurus signature   li   True  False   \n",
       "7  Showdown looms as Nasa defies Matiangi ban on ...   li  False   True   \n",
       "8               Uhuru receives proposed election law   h2   True  False   \n",
       "9                     Nasa defies CS protests in CBD   li  False   True   \n",
       "\n",
       "    ruto  sentiment_score  \n",
       "0   True           0.4404  \n",
       "1  False          -0.3400  \n",
       "2  False          -0.5574  \n",
       "3  False          -0.3182  \n",
       "4  False          -0.6249  \n",
       "5  False           0.0000  \n",
       "6  False           0.1027  \n",
       "7  False          -0.6369  \n",
       "8  False           0.0000  \n",
       "9  False          -0.2263  "
      ]
     },
     "execution_count": 22,
     "metadata": {},
     "output_type": "execute_result"
    }
   ],
   "source": [
    "analyser = SentimentIntensityAnalyzer()\n",
    "#politics[\"headline\"]  = politics[\"headline\"].str.lower()\n",
    "politics[\"sentiment_score\"] = politics[\"headline\"].apply(lambda x: analyser.polarity_scores(x)[\"compound\"])\n",
    "politics.head(10)"
   ]
  },
  {
   "cell_type": "code",
   "execution_count": 23,
   "metadata": {},
   "outputs": [],
   "source": [
    "def tag_pos(headline):\n",
    "    headline = nltk.word_tokenize(headline)\n",
    "    headline = nltk.pos_tag(headline)\n",
    "    return(headline)"
   ]
  },
  {
   "cell_type": "code",
   "execution_count": 24,
   "metadata": {},
   "outputs": [
    {
     "data": {
      "text/html": [
       "<div>\n",
       "<style scoped>\n",
       "    .dataframe tbody tr th:only-of-type {\n",
       "        vertical-align: middle;\n",
       "    }\n",
       "\n",
       "    .dataframe tbody tr th {\n",
       "        vertical-align: top;\n",
       "    }\n",
       "\n",
       "    .dataframe thead th {\n",
       "        text-align: right;\n",
       "    }\n",
       "</style>\n",
       "<table border=\"1\" class=\"dataframe\">\n",
       "  <thead>\n",
       "    <tr style=\"text-align: right;\">\n",
       "      <th></th>\n",
       "      <th>headline</th>\n",
       "      <th>tags_pos</th>\n",
       "    </tr>\n",
       "  </thead>\n",
       "  <tbody>\n",
       "    <tr>\n",
       "      <th>0</th>\n",
       "      <td>Jubilee law change to let Uhuru advertise freely</td>\n",
       "      <td>[(Jubilee, NNP), (law, NN), (change, NN), (to,...</td>\n",
       "    </tr>\n",
       "    <tr>\n",
       "      <th>1</th>\n",
       "      <td>Uhuru orders probe on Gikomba fire</td>\n",
       "      <td>[(Uhuru, JJ), (orders, NNS), (probe, VBP), (on...</td>\n",
       "    </tr>\n",
       "    <tr>\n",
       "      <th>2</th>\n",
       "      <td>Four injured during anti-IEBC protests as Rail...</td>\n",
       "      <td>[(Four, CD), (injured, JJ), (during, IN), (ant...</td>\n",
       "    </tr>\n",
       "    <tr>\n",
       "      <th>3</th>\n",
       "      <td>Nasa legislators to boycott House business in ...</td>\n",
       "      <td>[(Nasa, NNP), (legislators, NNS), (to, TO), (b...</td>\n",
       "    </tr>\n",
       "    <tr>\n",
       "      <th>4</th>\n",
       "      <td>Political crisis deepens as Raila exits presid...</td>\n",
       "      <td>[(Political, JJ), (crisis, NN), (deepens, NNS)...</td>\n",
       "    </tr>\n",
       "  </tbody>\n",
       "</table>\n",
       "</div>"
      ],
      "text/plain": [
       "                                            headline  \\\n",
       "0   Jubilee law change to let Uhuru advertise freely   \n",
       "1                 Uhuru orders probe on Gikomba fire   \n",
       "2  Four injured during anti-IEBC protests as Rail...   \n",
       "3  Nasa legislators to boycott House business in ...   \n",
       "4  Political crisis deepens as Raila exits presid...   \n",
       "\n",
       "                                            tags_pos  \n",
       "0  [(Jubilee, NNP), (law, NN), (change, NN), (to,...  \n",
       "1  [(Uhuru, JJ), (orders, NNS), (probe, VBP), (on...  \n",
       "2  [(Four, CD), (injured, JJ), (during, IN), (ant...  \n",
       "3  [(Nasa, NNP), (legislators, NNS), (to, TO), (b...  \n",
       "4  [(Political, JJ), (crisis, NN), (deepens, NNS)...  "
      ]
     },
     "execution_count": 24,
     "metadata": {},
     "output_type": "execute_result"
    }
   ],
   "source": [
    "politics[\"tags_pos\"] = politics[\"headline\"].apply(lambda x: tag_pos(x))\n",
    "politics[[\"headline\", \"tags_pos\"]].head() #Not perfect as we have Uhuru labelled as an adjective in the second row"
   ]
  },
  {
   "cell_type": "code",
   "execution_count": 8,
   "metadata": {},
   "outputs": [],
   "source": [
    "#extact proper nouns\n",
    "nouns_list = []\n",
    "for row in range(0,len(politics)):\n",
    "    nouns = [item[0] for item in politics[\"tags_pos\"][row] if item[1] in [\"NNS\",\"NNS\",\"NNP\", \"NNPS\", \"POS\"]]\n",
    "    nouns_list.append(nouns)"
   ]
  },
  {
   "cell_type": "code",
   "execution_count": 25,
   "metadata": {},
   "outputs": [
    {
     "name": "stdout",
     "output_type": "stream",
     "text": [
      "                                            headline  \\\n",
      "0   Jubilee law change to let Uhuru advertise freely   \n",
      "1                 Uhuru orders probe on Gikomba fire   \n",
      "2  Four injured during anti-IEBC protests as Rail...   \n",
      "3  Nasa legislators to boycott House business in ...   \n",
      "4  Political crisis deepens as Raila exits presid...   \n",
      "\n",
      "                                             nouns  \n",
      "0                    [Jubilee, law, change, Uhuru]  \n",
      "1                          [orders, Gikomba, fire]  \n",
      "2                    [protests, Raila, Uhuru, row]  \n",
      "3  [Nasa, legislators, House, business, poll, row]  \n",
      "4                   [crisis, deepens, Raila, race]  \n",
      "                                                headline  \\\n",
      "23603  I don't have any problem competing with Raila ...   \n",
      "23604  Murkomen apologises to Miguna over Jubilee har...   \n",
      "23605       I'm not in the 222 presidential race - Raila   \n",
      "23606   Ruto using harambees to bribe the church - Raila   \n",
      "23607  Ruto showcases his football skills at KICOSCA ...   \n",
      "\n",
      "                                                   nouns  \n",
      "23603                                   [problem, Raila]  \n",
      "23604             [Murkomen, Miguna, Jubilee, harassmen]  \n",
      "23605                                      [race, Raila]  \n",
      "23606                   [Ruto, harambees, church, Raila]  \n",
      "23607  [Ruto, football, skills, KICOSCA, games, Kericho]  \n"
     ]
    }
   ],
   "source": [
    "politics[\"nouns\"] = pd.Series(nouns_list)\n",
    "print(politics[[\"headline\", \"nouns\"]].head())\n",
    "print(politics[[\"headline\", \"nouns\"]].tail())"
   ]
  },
  {
   "cell_type": "code",
   "execution_count": 2,
   "metadata": {},
   "outputs": [],
   "source": [
    "#entity recognition\n",
    "ner = en_core_web_sm.load()"
   ]
  },
  {
   "cell_type": "code",
   "execution_count": null,
   "metadata": {},
   "outputs": [],
   "source": [
    "headline = ner(\"Jubilee law change to let Uhuru advertise freely\")\n",
    "pprint([(X.text, X.label_) for X in headline.ents]) "
   ]
  },
  {
   "cell_type": "code",
   "execution_count": 3,
   "metadata": {},
   "outputs": [
    {
     "name": "stdout",
     "output_type": "stream",
     "text": [
      "[('Michael Jordan', 'PERSON'), ('Uhuru', 'PERSON'), ('Kasarani Stadium', 'FAC')]\n"
     ]
    }
   ],
   "source": [
    "headline = ner(\"Michael Jordan meets Uhuru at Kasarani Stadium\")\n",
    "pprint([(X.text, X.label_) for X in headline.ents]) "
   ]
  },
  {
   "cell_type": "code",
   "execution_count": 13,
   "metadata": {},
   "outputs": [
    {
     "name": "stdout",
     "output_type": "stream",
     "text": [
      "[('Uhuru', 'GPE'), ('Gikomba', 'GPE')]\n"
     ]
    }
   ],
   "source": [
    "headline = ner(\"Uhuru orders probe on Gikomba fire\")\n",
    "pprint([(X.text, X.label_) for X in headline.ents]) # because of the training dataset used, entities specific to Kenya incorrectlt identified.\n",
    "# Uhuru identifies as GPE(Geopolitical Entity instead of PERSON)\n",
    "# Main goal is to get the entities for SNA and the label is not particularly important"
   ]
  },
  {
   "cell_type": "code",
   "execution_count": 8,
   "metadata": {},
   "outputs": [],
   "source": [
    "def extract_entities(text):\n",
    "    ent_text = ner(text)\n",
    "    entities_list = []\n",
    "    for ent in ent_text.ents:\n",
    "        entity = ent.text\n",
    "        entities_list.append(entity)\n",
    "    return(entities_list)\n"
   ]
  },
  {
   "cell_type": "code",
   "execution_count": 28,
   "metadata": {},
   "outputs": [
    {
     "data": {
      "text/html": [
       "<div>\n",
       "<style scoped>\n",
       "    .dataframe tbody tr th:only-of-type {\n",
       "        vertical-align: middle;\n",
       "    }\n",
       "\n",
       "    .dataframe tbody tr th {\n",
       "        vertical-align: top;\n",
       "    }\n",
       "\n",
       "    .dataframe thead th {\n",
       "        text-align: right;\n",
       "    }\n",
       "</style>\n",
       "<table border=\"1\" class=\"dataframe\">\n",
       "  <thead>\n",
       "    <tr style=\"text-align: right;\">\n",
       "      <th></th>\n",
       "      <th>headline</th>\n",
       "      <th>nouns</th>\n",
       "      <th>entities</th>\n",
       "    </tr>\n",
       "  </thead>\n",
       "  <tbody>\n",
       "    <tr>\n",
       "      <th>0</th>\n",
       "      <td>Jubilee law change to let Uhuru advertise freely</td>\n",
       "      <td>[Jubilee, law, change, Uhuru]</td>\n",
       "      <td>[Uhuru]</td>\n",
       "    </tr>\n",
       "    <tr>\n",
       "      <th>1</th>\n",
       "      <td>Uhuru orders probe on Gikomba fire</td>\n",
       "      <td>[orders, Gikomba, fire]</td>\n",
       "      <td>[Uhuru, Gikomba]</td>\n",
       "    </tr>\n",
       "    <tr>\n",
       "      <th>2</th>\n",
       "      <td>Four injured during anti-IEBC protests as Rail...</td>\n",
       "      <td>[protests, Raila, Uhuru, row]</td>\n",
       "      <td>[Four, Raila Uhuru row]</td>\n",
       "    </tr>\n",
       "    <tr>\n",
       "      <th>3</th>\n",
       "      <td>Nasa legislators to boycott House business in ...</td>\n",
       "      <td>[Nasa, legislators, House, business, poll, row]</td>\n",
       "      <td>[Nasa, House]</td>\n",
       "    </tr>\n",
       "    <tr>\n",
       "      <th>4</th>\n",
       "      <td>Political crisis deepens as Raila exits presid...</td>\n",
       "      <td>[crisis, deepens, Raila, race]</td>\n",
       "      <td>[Raila]</td>\n",
       "    </tr>\n",
       "  </tbody>\n",
       "</table>\n",
       "</div>"
      ],
      "text/plain": [
       "                                            headline  \\\n",
       "0   Jubilee law change to let Uhuru advertise freely   \n",
       "1                 Uhuru orders probe on Gikomba fire   \n",
       "2  Four injured during anti-IEBC protests as Rail...   \n",
       "3  Nasa legislators to boycott House business in ...   \n",
       "4  Political crisis deepens as Raila exits presid...   \n",
       "\n",
       "                                             nouns                 entities  \n",
       "0                    [Jubilee, law, change, Uhuru]                  [Uhuru]  \n",
       "1                          [orders, Gikomba, fire]         [Uhuru, Gikomba]  \n",
       "2                    [protests, Raila, Uhuru, row]  [Four, Raila Uhuru row]  \n",
       "3  [Nasa, legislators, House, business, poll, row]            [Nasa, House]  \n",
       "4                   [crisis, deepens, Raila, race]                  [Raila]  "
      ]
     },
     "execution_count": 28,
     "metadata": {},
     "output_type": "execute_result"
    }
   ],
   "source": [
    "headline_entities = politics[\"headline\"].apply(lambda x: extract_entities(x))\n",
    "politics[\"entities\"] = pd.Series(headline_entities, index = politics.index)\n",
    "politics[[\"headline\", \"nouns\", \"entities\"]].head()"
   ]
  },
  {
   "cell_type": "code",
   "execution_count": 29,
   "metadata": {},
   "outputs": [
    {
     "data": {
      "text/html": [
       "<div>\n",
       "<style scoped>\n",
       "    .dataframe tbody tr th:only-of-type {\n",
       "        vertical-align: middle;\n",
       "    }\n",
       "\n",
       "    .dataframe tbody tr th {\n",
       "        vertical-align: top;\n",
       "    }\n",
       "\n",
       "    .dataframe thead th {\n",
       "        text-align: right;\n",
       "    }\n",
       "</style>\n",
       "<table border=\"1\" class=\"dataframe\">\n",
       "  <thead>\n",
       "    <tr style=\"text-align: right;\">\n",
       "      <th></th>\n",
       "      <th>headline</th>\n",
       "      <th>nouns</th>\n",
       "      <th>entities</th>\n",
       "    </tr>\n",
       "  </thead>\n",
       "  <tbody>\n",
       "    <tr>\n",
       "      <th>23603</th>\n",
       "      <td>I don't have any problem competing with Raila ...</td>\n",
       "      <td>[problem, Raila]</td>\n",
       "      <td>[Raila, 222-Ruto]</td>\n",
       "    </tr>\n",
       "    <tr>\n",
       "      <th>23604</th>\n",
       "      <td>Murkomen apologises to Miguna over Jubilee har...</td>\n",
       "      <td>[Murkomen, Miguna, Jubilee, harassmen]</td>\n",
       "      <td>[Murkomen, Miguna, Jubilee]</td>\n",
       "    </tr>\n",
       "    <tr>\n",
       "      <th>23605</th>\n",
       "      <td>I'm not in the 222 presidential race - Raila</td>\n",
       "      <td>[race, Raila]</td>\n",
       "      <td>[222]</td>\n",
       "    </tr>\n",
       "    <tr>\n",
       "      <th>23606</th>\n",
       "      <td>Ruto using harambees to bribe the church - Raila</td>\n",
       "      <td>[Ruto, harambees, church, Raila]</td>\n",
       "      <td>[]</td>\n",
       "    </tr>\n",
       "    <tr>\n",
       "      <th>23607</th>\n",
       "      <td>Ruto showcases his football skills at KICOSCA ...</td>\n",
       "      <td>[Ruto, football, skills, KICOSCA, games, Kericho]</td>\n",
       "      <td>[KICOSCA, Kericho]</td>\n",
       "    </tr>\n",
       "  </tbody>\n",
       "</table>\n",
       "</div>"
      ],
      "text/plain": [
       "                                                headline  \\\n",
       "23603  I don't have any problem competing with Raila ...   \n",
       "23604  Murkomen apologises to Miguna over Jubilee har...   \n",
       "23605       I'm not in the 222 presidential race - Raila   \n",
       "23606   Ruto using harambees to bribe the church - Raila   \n",
       "23607  Ruto showcases his football skills at KICOSCA ...   \n",
       "\n",
       "                                                   nouns  \\\n",
       "23603                                   [problem, Raila]   \n",
       "23604             [Murkomen, Miguna, Jubilee, harassmen]   \n",
       "23605                                      [race, Raila]   \n",
       "23606                   [Ruto, harambees, church, Raila]   \n",
       "23607  [Ruto, football, skills, KICOSCA, games, Kericho]   \n",
       "\n",
       "                          entities  \n",
       "23603            [Raila, 222-Ruto]  \n",
       "23604  [Murkomen, Miguna, Jubilee]  \n",
       "23605                        [222]  \n",
       "23606                           []  \n",
       "23607           [KICOSCA, Kericho]  "
      ]
     },
     "execution_count": 29,
     "metadata": {},
     "output_type": "execute_result"
    }
   ],
   "source": [
    "politics[[\"headline\", \"nouns\", \"entities\"]].tail() "
   ]
  },
  {
   "cell_type": "code",
   "execution_count": 30,
   "metadata": {},
   "outputs": [],
   "source": [
    "politics.to_csv(\"politics_with_entities.csv\", index = False)"
   ]
  },
  {
   "cell_type": "code",
   "execution_count": 13,
   "metadata": {},
   "outputs": [
    {
     "name": "stdout",
     "output_type": "stream",
     "text": [
      "        date        source                                           headline\n",
      "0 2009-02-05  daily_nation                  S Africa drops Zuma graft charges\n",
      "1 2009-10-04      standard  Buried skeletons emerge to haunt corruption de...\n",
      "2 2009-12-30      standard  Why Cabinet has evolved into architect of gran...\n",
      "3 2010-02-02  daily_nation               US lauds Kenyan efforts on graft war\n",
      "4 2010-02-13      standard     Graft: Four PSs on suspension yet to know fate\n"
     ]
    }
   ],
   "source": [
    "corruption_news = pd.read_csv(\"corruption_news2.csv\", encoding = \"ISO-8859-1\")\n",
    "corruption_news[\"date\"] = pd.to_datetime(corruption_news[\"date\"], format = \"%Y-%m-%d\")\n",
    "print(corruption_news.head())\n"
   ]
  },
  {
   "cell_type": "code",
   "execution_count": 14,
   "metadata": {},
   "outputs": [
    {
     "data": {
      "text/html": [
       "<div>\n",
       "<style scoped>\n",
       "    .dataframe tbody tr th:only-of-type {\n",
       "        vertical-align: middle;\n",
       "    }\n",
       "\n",
       "    .dataframe tbody tr th {\n",
       "        vertical-align: top;\n",
       "    }\n",
       "\n",
       "    .dataframe thead th {\n",
       "        text-align: right;\n",
       "    }\n",
       "</style>\n",
       "<table border=\"1\" class=\"dataframe\">\n",
       "  <thead>\n",
       "    <tr style=\"text-align: right;\">\n",
       "      <th></th>\n",
       "      <th>headline</th>\n",
       "      <th>entities</th>\n",
       "    </tr>\n",
       "  </thead>\n",
       "  <tbody>\n",
       "    <tr>\n",
       "      <th>0</th>\n",
       "      <td>S Africa drops Zuma graft charges</td>\n",
       "      <td>[S Africa, Zuma]</td>\n",
       "    </tr>\n",
       "    <tr>\n",
       "      <th>1</th>\n",
       "      <td>Buried skeletons emerge to haunt corruption de...</td>\n",
       "      <td>[]</td>\n",
       "    </tr>\n",
       "    <tr>\n",
       "      <th>2</th>\n",
       "      <td>Why Cabinet has evolved into architect of gran...</td>\n",
       "      <td>[Cabinet]</td>\n",
       "    </tr>\n",
       "    <tr>\n",
       "      <th>3</th>\n",
       "      <td>US lauds Kenyan efforts on graft war</td>\n",
       "      <td>[US, Kenyan]</td>\n",
       "    </tr>\n",
       "    <tr>\n",
       "      <th>4</th>\n",
       "      <td>Graft: Four PSs on suspension yet to know fate</td>\n",
       "      <td>[Graft, Four]</td>\n",
       "    </tr>\n",
       "  </tbody>\n",
       "</table>\n",
       "</div>"
      ],
      "text/plain": [
       "                                            headline          entities\n",
       "0                  S Africa drops Zuma graft charges  [S Africa, Zuma]\n",
       "1  Buried skeletons emerge to haunt corruption de...                []\n",
       "2  Why Cabinet has evolved into architect of gran...         [Cabinet]\n",
       "3               US lauds Kenyan efforts on graft war      [US, Kenyan]\n",
       "4     Graft: Four PSs on suspension yet to know fate     [Graft, Four]"
      ]
     },
     "execution_count": 14,
     "metadata": {},
     "output_type": "execute_result"
    }
   ],
   "source": [
    "entities = corruption_news[\"headline\"].apply(lambda x: extract_entities(x))\n",
    "corruption_news[\"entities\"] = pd.Series(entities, index = corruption_news.index)\n",
    "corruption_news[[\"headline\", \"entities\"]].head()"
   ]
  },
  {
   "cell_type": "code",
   "execution_count": 17,
   "metadata": {},
   "outputs": [],
   "source": [
    "corruption_news.to_csv(\"corruption_entities0.csv\", index = False)"
   ]
  }
 ],
 "metadata": {
  "kernelspec": {
   "display_name": "Python 3",
   "language": "python",
   "name": "python3"
  },
  "language_info": {
   "codemirror_mode": {
    "name": "ipython",
    "version": 3
   },
   "file_extension": ".py",
   "mimetype": "text/x-python",
   "name": "python",
   "nbconvert_exporter": "python",
   "pygments_lexer": "ipython3",
   "version": "3.6.5"
  }
 },
 "nbformat": 4,
 "nbformat_minor": 2
}
